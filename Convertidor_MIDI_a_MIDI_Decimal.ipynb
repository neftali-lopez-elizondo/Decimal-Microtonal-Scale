{
  "cells": [
    {
      "cell_type": "markdown",
      "metadata": {
        "id": "view-in-github",
        "colab_type": "text"
      },
      "source": [
        "<a href=\"https://colab.research.google.com/github/neftali-lopez-elizondo/Decimal-Microtonal-Scale/blob/main/Convertidor_MIDI_a_MIDI_Decimal.ipynb\" target=\"_parent\"><img src=\"https://colab.research.google.com/assets/colab-badge.svg\" alt=\"Open In Colab\"/></a>"
      ]
    },
    {
      "cell_type": "code",
      "source": [
        "import math\n",
        "from mido import MidiFile, MidiTrack, Message\n",
        "\n",
        "# --------------------------\n",
        "# Configuración del sistema musical decimal\n",
        "# --------------------------\n",
        "# Razón de la octava para el sistema de 10 tonos\n",
        "OCTAVE_RATIO = 2**(1/10)\n",
        "# Frecuencia de referencia (La 440 Hz)\n",
        "A4_FREQ = 440.0\n",
        "# Nota de referencia en el sistema de 10 tonos\n",
        "LA_TONE_DECIMAL = 8\n",
        "# Nota de referencia en el sistema MIDI estándar\n",
        "A4_MIDI_NOTE = 69\n",
        "# Razón de la octava para el sistema de 12 tonos\n",
        "OCTAVE_RATIO_12 = 2**(1/12)\n",
        "\n",
        "def get_standard_freq(midi_note):\n",
        "    \"\"\"Calcula la frecuencia en Hz de una nota MIDI estándar.\"\"\"\n",
        "    return A4_FREQ * (OCTAVE_RATIO_12 ** (midi_note - A4_MIDI_NOTE))\n",
        "\n",
        "def get_closest_decimal_note(standard_freq):\n",
        "    \"\"\"\n",
        "    Convierte una frecuencia estándar a la nota más cercana\n",
        "    en el sistema de 10 tonos.\n",
        "    \"\"\"\n",
        "    # Fórmula de la nota decimal\n",
        "    # tone = 8 + 10 * log2(frecuencia / A4_FREQ)\n",
        "    decimal_tone = LA_TONE_DECIMAL + 10 * math.log2(standard_freq / A4_FREQ)\n",
        "    return decimal_tone\n",
        "\n",
        "def get_midi_note_from_decimal(decimal_tone):\n",
        "    \"\"\"\n",
        "    Convierte un tono decimal a la nota MIDI estándar más cercana.\n",
        "    Esto es para crear un nuevo archivo MIDI que se pueda reproducir.\n",
        "    \"\"\"\n",
        "    # Fórmula para la nota MIDI\n",
        "    # midi_note = 69 + 12 * log2(frecuencia_decimal / A4_FREQ)\n",
        "    decimal_freq = A4_FREQ * (OCTAVE_RATIO ** (decimal_tone - LA_TONE_DECIMAL))\n",
        "    midi_note = A4_MIDI_NOTE + 12 * math.log2(decimal_freq / A4_FREQ)\n",
        "\n",
        "    # Redondeamos a la nota entera más cercana, ya que MIDI solo usa enteros.\n",
        "    return int(round(midi_note))\n",
        "\n",
        "# --------------------------\n",
        "# Clase principal del convertidor\n",
        "# --------------------------\n",
        "class MidiDecimalConverter:\n",
        "    \"\"\"\n",
        "    Un convertidor que toma un archivo MIDI estándar y crea un nuevo\n",
        "    archivo MIDI en el sistema musical decimal.\n",
        "    \"\"\"\n",
        "    def __init__(self, input_path, output_path):\n",
        "        self.input_path = input_path\n",
        "        self.output_path = output_path\n",
        "        self.mid = MidiFile(self.input_path)\n",
        "\n",
        "    def convert_to_decimal_midi(self):\n",
        "        \"\"\"\n",
        "        Lee el archivo de entrada y crea un nuevo archivo MIDI\n",
        "        con las notas convertidas al sistema decimal.\n",
        "        \"\"\"\n",
        "        print(f\"Iniciando conversión de '{self.input_path}'...\")\n",
        "\n",
        "        # Crea un nuevo archivo MIDI para el resultado\n",
        "        new_midi = MidiFile(ticks_per_beat=self.mid.ticks_per_beat)\n",
        "\n",
        "        for track in self.mid.tracks:\n",
        "            new_track = MidiTrack()\n",
        "            new_midi.tracks.append(new_track)\n",
        "\n",
        "            for msg in track:\n",
        "                if msg.is_meta:\n",
        "                    # Copia mensajes meta como el tempo, el tiempo, etc.\n",
        "                    new_track.append(msg)\n",
        "                elif msg.type in ['note_on', 'note_off']:\n",
        "                    # 1. Convierte la nota MIDI estándar a su frecuencia\n",
        "                    standard_freq = get_standard_freq(msg.note)\n",
        "\n",
        "                    # 2. Convierte la frecuencia a un tono decimal\n",
        "                    decimal_tone = get_closest_decimal_note(standard_freq)\n",
        "\n",
        "                    # 3. Vuelve a convertir el tono decimal a la nota MIDI más cercana\n",
        "                    new_midi_note = get_midi_note_from_decimal(decimal_tone)\n",
        "\n",
        "                    # 4. Crea un nuevo mensaje MIDI con la nota convertida\n",
        "                    new_msg = Message(\n",
        "                        msg.type,\n",
        "                        note=new_midi_note,\n",
        "                        velocity=msg.velocity,\n",
        "                        time=msg.time,\n",
        "                        channel=msg.channel\n",
        "                    )\n",
        "                    new_track.append(new_msg)\n",
        "                else:\n",
        "                    # Copia otros mensajes del canal\n",
        "                    new_track.append(msg)\n",
        "\n",
        "        # Guarda el nuevo archivo MIDI\n",
        "        new_midi.save(self.output_path)\n",
        "        print(f\"✅ Conversión completa. Archivo guardado como '{self.output_path}'\")\n",
        "\n",
        "# --------------------------\n",
        "# Ejemplo de uso\n",
        "# --------------------------\n",
        "if __name__ == \"__main__\":\n",
        "    # Necesitas un archivo MIDI en la misma carpeta del script\n",
        "    input_file = \"mi_pieza_clasica.mid\"\n",
        "    output_file = \"pieza_decimal.mid\"\n",
        "\n",
        "    try:\n",
        "        converter = MidiDecimalConverter(input_file, output_file)\n",
        "        converter.convert_to_decimal_midi()\n",
        "    except FileNotFoundError:\n",
        "        print(f\"❌ Error: Asegúrate de tener un archivo MIDI llamado '{input_file}' en la misma carpeta.\")"
      ],
      "outputs": [
        {
          "output_type": "error",
          "ename": "ModuleNotFoundError",
          "evalue": "No module named 'mido'",
          "traceback": [
            "\u001b[0;31m---------------------------------------------------------------------------\u001b[0m",
            "\u001b[0;31mModuleNotFoundError\u001b[0m                       Traceback (most recent call last)",
            "\u001b[0;32m/tmp/ipython-input-1615235695.py\u001b[0m in \u001b[0;36m<cell line: 0>\u001b[0;34m()\u001b[0m\n\u001b[1;32m      1\u001b[0m \u001b[0;32mimport\u001b[0m \u001b[0mmath\u001b[0m\u001b[0;34m\u001b[0m\u001b[0;34m\u001b[0m\u001b[0m\n\u001b[0;32m----> 2\u001b[0;31m \u001b[0;32mfrom\u001b[0m \u001b[0mmido\u001b[0m \u001b[0;32mimport\u001b[0m \u001b[0mMidiFile\u001b[0m\u001b[0;34m,\u001b[0m \u001b[0mMidiTrack\u001b[0m\u001b[0;34m,\u001b[0m \u001b[0mMessage\u001b[0m\u001b[0;34m\u001b[0m\u001b[0;34m\u001b[0m\u001b[0m\n\u001b[0m\u001b[1;32m      3\u001b[0m \u001b[0;34m\u001b[0m\u001b[0m\n\u001b[1;32m      4\u001b[0m \u001b[0;31m# --------------------------\u001b[0m\u001b[0;34m\u001b[0m\u001b[0;34m\u001b[0m\u001b[0m\n\u001b[1;32m      5\u001b[0m \u001b[0;31m# Configuración del sistema musical decimal\u001b[0m\u001b[0;34m\u001b[0m\u001b[0;34m\u001b[0m\u001b[0m\n",
            "\u001b[0;31mModuleNotFoundError\u001b[0m: No module named 'mido'",
            "",
            "\u001b[0;31m---------------------------------------------------------------------------\u001b[0;32m\nNOTE: If your import is failing due to a missing package, you can\nmanually install dependencies using either !pip or !apt.\n\nTo view examples of installing some common dependencies, click the\n\"Open Examples\" button below.\n\u001b[0;31m---------------------------------------------------------------------------\u001b[0m\n"
          ],
          "errorDetails": {
            "actions": [
              {
                "action": "open_url",
                "actionText": "Open Examples",
                "url": "/notebooks/snippets/importing_libraries.ipynb"
              }
            ]
          }
        }
      ],
      "execution_count": 1,
      "metadata": {
        "colab": {
          "base_uri": "https://localhost:8080/",
          "height": 398
        },
        "id": "HXDVvuspjfMy",
        "outputId": "1c97c51a-3b6e-488c-db14-7536a08e4e5e"
      }
    }
  ],
  "metadata": {
    "colab": {
      "provenance": [],
      "include_colab_link": true
    },
    "kernelspec": {
      "display_name": "Python 3",
      "name": "python3"
    }
  },
  "nbformat": 4,
  "nbformat_minor": 0
}